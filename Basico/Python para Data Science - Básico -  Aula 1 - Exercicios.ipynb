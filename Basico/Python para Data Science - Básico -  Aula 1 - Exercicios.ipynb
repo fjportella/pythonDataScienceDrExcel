{
 "cells": [
  {
   "cell_type": "markdown",
   "metadata": {},
   "source": [
    "# Exercícios - Aula 1"
   ]
  },
  {
   "cell_type": "markdown",
   "metadata": {},
   "source": [
    "# Exercícios - Operações Básicas"
   ]
  },
  {
   "cell_type": "code",
   "execution_count": 1,
   "metadata": {},
   "outputs": [
    {
     "data": {
      "text/plain": [
       "30"
      ]
     },
     "execution_count": 1,
     "metadata": {},
     "output_type": "execute_result"
    }
   ],
   "source": [
    "# Faça o resultado da multiplicação de 10 x 3 e armazene o resultado em uma variável chamada result\n",
    "\n",
    "# Digite o seu código abaixo\n",
    "\n",
    "result = 10*3\n",
    "result\n",
    "\n",
    "\n"
   ]
  },
  {
   "cell_type": "code",
   "execution_count": 3,
   "metadata": {},
   "outputs": [
    {
     "data": {
      "text/plain": [
       "0"
      ]
     },
     "execution_count": 3,
     "metadata": {},
     "output_type": "execute_result"
    }
   ],
   "source": [
    "# Com a variável que armazenou acima, teste se o resultado é igual a 40 e armazene o resultado em uma variável booleana chamada result_bool\n",
    "\n",
    "# Digite seu código abaixo\n",
    "\n",
    "result_bool = 0\n",
    "if result == 40:\n",
    "    result_bool = result\n",
    "\n",
    "result_bool\n",
    "\n",
    "\n",
    "\n",
    "\n"
   ]
  },
  {
   "cell_type": "code",
   "execution_count": 4,
   "metadata": {},
   "outputs": [
    {
     "name": "stdout",
     "output_type": "stream",
     "text": [
      "Resposta correta\n",
      "Resposta Correta\n"
     ]
    }
   ],
   "source": [
    "# Verifique seus resultados - Apenas rodar essa célula\n",
    "\n",
    "if result == 30:\n",
    "    print('Resposta correta')\n",
    "else:\n",
    "    print('Resposta Incorreta , verifique seu código')\n",
    "    \n",
    "    \n",
    "if result_bool == False:\n",
    "    print('Resposta Correta')\n",
    "else:\n",
    "    print('Resposta Incorreta, verifique seu código')"
   ]
  },
  {
   "cell_type": "code",
   "execution_count": 5,
   "metadata": {},
   "outputs": [],
   "source": [
    "# Crie uma outra variável chamada string com o texto \"Olá\"\n",
    "#Digite seu código abaixo:\n",
    "\n",
    "string = \"Olá\"\n"
   ]
  },
  {
   "cell_type": "code",
   "execution_count": 6,
   "metadata": {},
   "outputs": [
    {
     "data": {
      "text/plain": [
       "'OláOláOláOláOláOláOláOláOláOlá'"
      ]
     },
     "execution_count": 6,
     "metadata": {},
     "output_type": "execute_result"
    }
   ],
   "source": [
    "#Agora crie uma variável chamada eco, que repita a variável string 10 vezes, faça isso utilizando operações com textos\n",
    "\n",
    "# Digite seu código abaixo:\n",
    "\n",
    "eco = string*10\n",
    "eco\n",
    "\n"
   ]
  },
  {
   "cell_type": "code",
   "execution_count": 7,
   "metadata": {},
   "outputs": [
    {
     "name": "stdout",
     "output_type": "stream",
     "text": [
      "Resposta Correta\n",
      "Resposta Correta\n"
     ]
    }
   ],
   "source": [
    "# Resposta:\n",
    "\n",
    "if string =='Olá':\n",
    "    print('Resposta Correta')\n",
    "else:\n",
    "    print('Tente novamente')\n",
    "    \n",
    "if eco == string*10:\n",
    "    print('Resposta Correta')\n",
    "else:\n",
    "    print('Tente Novamente')"
   ]
  },
  {
   "cell_type": "markdown",
   "metadata": {},
   "source": [
    "# Exercícios - Lista"
   ]
  },
  {
   "cell_type": "code",
   "execution_count": 14,
   "metadata": {},
   "outputs": [
    {
     "data": {
      "text/plain": [
       "[30, 27, 31, 45, 50, 22, 18, 26, 30, 57]"
      ]
     },
     "execution_count": 14,
     "metadata": {},
     "output_type": "execute_result"
    }
   ],
   "source": [
    "#Exercício 1\n",
    "\n",
    "# Supondo uma lista com as idades dos alunos da turma\n",
    "\n",
    "idades = [30, 27, 31, 45, 50, 22, 18, 26, 30]\n",
    "\n",
    "# Suponha que tenha um aluno novo na turma e que tenha 57 anos, adicione essa idade na lista\n",
    "# Digite seu código abaixo:\n",
    "\n",
    "idades.append(57)\n",
    "idades"
   ]
  },
  {
   "cell_type": "code",
   "execution_count": 10,
   "metadata": {},
   "outputs": [
    {
     "name": "stdout",
     "output_type": "stream",
     "text": [
      "Resposta Correta\n"
     ]
    }
   ],
   "source": [
    "#Exercício 1\n",
    "\n",
    "if idades == [30, 27, 31, 45, 50, 22, 18, 26, 30, 57]:\n",
    "    print('Resposta Correta')\n",
    "else:\n",
    "    print('Tente Novamente')"
   ]
  },
  {
   "cell_type": "code",
   "execution_count": 15,
   "metadata": {},
   "outputs": [
    {
     "data": {
      "text/plain": [
       "[30, 27, 31, 45, 50, 22, 18, 26, 30]"
      ]
     },
     "execution_count": 15,
     "metadata": {},
     "output_type": "execute_result"
    }
   ],
   "source": [
    "# Exercício 2\n",
    "\n",
    "# Agora o aluno resolveu mudar de turma, vamos remover a idade dele da lista\n",
    "#Digite seu código abaixo:\n",
    "\n",
    "idades.remove(57)\n",
    "idades\n"
   ]
  },
  {
   "cell_type": "code",
   "execution_count": 16,
   "metadata": {},
   "outputs": [
    {
     "name": "stdout",
     "output_type": "stream",
     "text": [
      "Resposta Correta\n"
     ]
    }
   ],
   "source": [
    "# Exercício 2\n",
    "\n",
    "if idades == [30, 27, 31, 45, 50, 22, 18, 26, 30]:\n",
    "    print('Resposta Correta')\n",
    "else:\n",
    "    print('Tente Novamente')"
   ]
  },
  {
   "cell_type": "code",
   "execution_count": 21,
   "metadata": {},
   "outputs": [
    {
     "data": {
      "text/plain": [
       "31.0"
      ]
     },
     "execution_count": 21,
     "metadata": {},
     "output_type": "execute_result"
    }
   ],
   "source": [
    "# Exercício 3\n",
    "\n",
    "# Queremos saber qual a média de idades dos alunos da turma\n",
    "# Vamos fazer esse cálculo por etapas\n",
    "\n",
    "# Calcule a soma dos elementos da lista\n",
    "# Digite seu código abaixo\n",
    "\n",
    "somaLista = sum(idades)\n",
    "somaLista\n",
    "\n",
    "\n",
    "\n",
    "# Calcule a quantidade de itens na lista\n",
    "# Digite seu código abaixo\n",
    "\n",
    "quantidadeLista = len(idades)\n",
    "quantidadeLista\n",
    "\n",
    "\n",
    "# Agora calcule a média dividindo a soma pela quantidade de itens, chame o valor final de media\n",
    "# Digite seu código abaixo\n",
    "\n",
    "media = somaLista / quantidadeLista\n",
    "media\n"
   ]
  },
  {
   "cell_type": "code",
   "execution_count": 22,
   "metadata": {},
   "outputs": [
    {
     "name": "stdout",
     "output_type": "stream",
     "text": [
      "Resposta Correta\n"
     ]
    }
   ],
   "source": [
    "# Exercício 3\n",
    "\n",
    "if media ==31:\n",
    "    print('Resposta Correta')\n",
    "else:\n",
    "    print('Tente Novamente')"
   ]
  },
  {
   "cell_type": "markdown",
   "metadata": {},
   "source": [
    "# Exercícios - Dicionários"
   ]
  },
  {
   "cell_type": "code",
   "execution_count": 28,
   "metadata": {},
   "outputs": [],
   "source": [
    "# Supondo o dicionário usado na aula\n",
    "\n",
    "dict_idades = {'Pedro':30,'Carlos':27,'Maria':31,'Alice':45,'Marina':50,'Marcos':22,'Antonio':18,'José':26,'Renata':30}"
   ]
  },
  {
   "cell_type": "code",
   "execution_count": 30,
   "metadata": {},
   "outputs": [
    {
     "data": {
      "text/plain": [
       "31"
      ]
     },
     "execution_count": 30,
     "metadata": {},
     "output_type": "execute_result"
    }
   ],
   "source": [
    "# Retorne a idade de Maria e armazene na variável \"maria\"\n",
    "\n",
    "# Escreva seu código abaixo:\n",
    "\n",
    "\n",
    "maria = dict_idades.get('Maria')\n",
    "maria\n",
    "\n"
   ]
  },
  {
   "cell_type": "code",
   "execution_count": 31,
   "metadata": {},
   "outputs": [
    {
     "name": "stdout",
     "output_type": "stream",
     "text": [
      "Resposta Correta\n"
     ]
    }
   ],
   "source": [
    "# Verificando a resposta:\n",
    "\n",
    "if maria ==31:\n",
    "    print('Resposta Correta')\n",
    "else:\n",
    "    print('Tente Novamente')"
   ]
  },
  {
   "cell_type": "code",
   "execution_count": 34,
   "metadata": {},
   "outputs": [
    {
     "data": {
      "text/plain": [
       "{'Pedro': 30,\n",
       " 'Carlos': 27,\n",
       " 'Maria': 31,\n",
       " 'Alice': 45,\n",
       " 'Marina': 50,\n",
       " 'Marcos': 22,\n",
       " 'Antonio': 18,\n",
       " 'José': 26,\n",
       " 'Renata': 30,\n",
       " 'Henrique': 50}"
      ]
     },
     "execution_count": 34,
     "metadata": {},
     "output_type": "execute_result"
    }
   ],
   "source": [
    "# Temos um novo aluno na classe, o nome dele é Henrique e ele tem 50 anos. Atualize o dicionário:\n",
    "\n",
    "dict_idades['Henrique'] = 50\n",
    "dict_idades"
   ]
  },
  {
   "cell_type": "code",
   "execution_count": 33,
   "metadata": {},
   "outputs": [
    {
     "name": "stdout",
     "output_type": "stream",
     "text": [
      "Resposta Correta\n"
     ]
    }
   ],
   "source": [
    "# Verificando a resposta:\n",
    "\n",
    "if dict_idades['Henrique'] ==50:\n",
    "    print('Resposta Correta')\n",
    "else:\n",
    "    print('Tente Novamente')"
   ]
  },
  {
   "cell_type": "code",
   "execution_count": 36,
   "metadata": {},
   "outputs": [
    {
     "data": {
      "text/plain": [
       "80"
      ]
     },
     "execution_count": 36,
     "metadata": {},
     "output_type": "execute_result"
    }
   ],
   "source": [
    "# Retorne a soma das idades de Pedro e Henrique e armazene o resultado na variável soma:\n",
    "\n",
    "soma = dict_idades.get('Pedro') + dict_idades.get('Henrique')\n",
    "soma\n",
    "\n",
    "\n"
   ]
  },
  {
   "cell_type": "code",
   "execution_count": 37,
   "metadata": {},
   "outputs": [
    {
     "name": "stdout",
     "output_type": "stream",
     "text": [
      "Resposta Correta\n"
     ]
    }
   ],
   "source": [
    "# Verificando a resposta:\n",
    "\n",
    "if soma == 80:\n",
    "    print('Resposta Correta')\n",
    "else:\n",
    "    print('Tente Novamente')"
   ]
  }
 ],
 "metadata": {
  "kernelspec": {
   "display_name": "Python 3",
   "language": "python",
   "name": "python3"
  },
  "language_info": {
   "codemirror_mode": {
    "name": "ipython",
    "version": 3
   },
   "file_extension": ".py",
   "mimetype": "text/x-python",
   "name": "python",
   "nbconvert_exporter": "python",
   "pygments_lexer": "ipython3",
   "version": "3.10.13"
  }
 },
 "nbformat": 4,
 "nbformat_minor": 4
}
