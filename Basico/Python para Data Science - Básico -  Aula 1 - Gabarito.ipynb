{
 "cells": [
  {
   "cell_type": "markdown",
   "metadata": {},
   "source": [
    "# Exercícios - Aula 1"
   ]
  },
  {
   "cell_type": "markdown",
   "metadata": {},
   "source": [
    "# Exercícios - Operações Básicas"
   ]
  },
  {
   "cell_type": "code",
   "execution_count": 1,
   "metadata": {},
   "outputs": [],
   "source": [
    "# Faça o resultado da multiplicação de 10 x 3 e armazene o resultado em uma variável chamada result\n",
    "\n",
    "# Digite o seu código abaixo\n",
    "\n",
    "result = 10*3"
   ]
  },
  {
   "cell_type": "code",
   "execution_count": 1,
   "metadata": {},
   "outputs": [
    {
     "ename": "NameError",
     "evalue": "name 'result' is not defined",
     "output_type": "error",
     "traceback": [
      "\u001b[0;31m---------------------------------------------------------------------------\u001b[0m",
      "\u001b[0;31mNameError\u001b[0m                                 Traceback (most recent call last)",
      "Cell \u001b[0;32mIn[1], line 6\u001b[0m\n\u001b[1;32m      1\u001b[0m \u001b[38;5;66;03m# Com a variável que armazenou acima, teste se o resultado é igual a 40 e armazene o resultado em uma variável booleana chamada result_bool\u001b[39;00m\n\u001b[1;32m      2\u001b[0m \n\u001b[1;32m      3\u001b[0m \u001b[38;5;66;03m# Digite seu código abaixo\u001b[39;00m\n\u001b[0;32m----> 6\u001b[0m result_bool \u001b[38;5;241m=\u001b[39m \u001b[43mresult\u001b[49m \u001b[38;5;241m==\u001b[39m \u001b[38;5;241m40\u001b[39m\n",
      "\u001b[0;31mNameError\u001b[0m: name 'result' is not defined"
     ]
    }
   ],
   "source": [
    "# Com a variável que armazenou acima, teste se o resultado é igual a 40 e armazene o resultado em uma variável booleana chamada result_bool\n",
    "\n",
    "# Digite seu código abaixo\n",
    "\n",
    "\n",
    "result_bool = result == 40"
   ]
  },
  {
   "cell_type": "code",
   "execution_count": 3,
   "metadata": {},
   "outputs": [
    {
     "name": "stdout",
     "output_type": "stream",
     "text": [
      "Resposta correta\n",
      "Resposta Correta\n"
     ]
    }
   ],
   "source": [
    "# Verifique seus resultados - Apenas rodar essa célula\n",
    "\n",
    "if result == 30:\n",
    "    print('Resposta correta')\n",
    "else:\n",
    "    print('Resposta Incorreta , verifique seu código')\n",
    "    \n",
    "    \n",
    "if result_bool == False:\n",
    "    print('Resposta Correta')\n",
    "else:\n",
    "    print('Resposta Incorreta, verifique seu código')"
   ]
  },
  {
   "cell_type": "code",
   "execution_count": 4,
   "metadata": {},
   "outputs": [],
   "source": [
    "# Crie uma outra variável chamada string com o texto \"Olá\"\n",
    "#Digite seu código abaixo:\n",
    "\n",
    "\n",
    "string = 'Olá'"
   ]
  },
  {
   "cell_type": "code",
   "execution_count": 5,
   "metadata": {},
   "outputs": [
    {
     "name": "stdout",
     "output_type": "stream",
     "text": [
      "OláOláOláOláOláOláOláOláOláOlá\n"
     ]
    }
   ],
   "source": [
    "#Agora crie uma variável chamada eco, que repita a variável string 10 vezes, faça isso utilizando operações com textos\n",
    "\n",
    "# Digite seu código abaixo:\n",
    "\n",
    "eco = string*10\n",
    "print(eco)"
   ]
  },
  {
   "cell_type": "code",
   "execution_count": 6,
   "metadata": {},
   "outputs": [
    {
     "name": "stdout",
     "output_type": "stream",
     "text": [
      "Resposta Correta\n",
      "Resposta Correta\n"
     ]
    }
   ],
   "source": [
    "# Resposta:\n",
    "\n",
    "if string =='Olá':\n",
    "    print('Resposta Correta')\n",
    "else:\n",
    "    print('Tente novamente')\n",
    "    \n",
    "if eco == string*10:\n",
    "    print('Resposta Correta')\n",
    "else:\n",
    "    print('Tente Novamente')"
   ]
  },
  {
   "cell_type": "markdown",
   "metadata": {},
   "source": [
    "# Exercícios - Lista"
   ]
  },
  {
   "cell_type": "code",
   "execution_count": 12,
   "metadata": {},
   "outputs": [],
   "source": [
    "#Exercício 1\n",
    "\n",
    "# Supondo uma lista com as idades dos alunos da turma\n",
    "\n",
    "idades = [30, 27, 31, 45, 50, 22, 18, 26, 30]\n",
    "\n",
    "# Suponha que tenha um aluno novo na turma e que tenha 57 anos, adicione essa idade na lista\n",
    "# Digite seu código abaixo:\n",
    "\n",
    "idades.append(57)"
   ]
  },
  {
   "cell_type": "code",
   "execution_count": 13,
   "metadata": {},
   "outputs": [
    {
     "name": "stdout",
     "output_type": "stream",
     "text": [
      "Resposta Correta\n"
     ]
    }
   ],
   "source": [
    "#Exercício 1\n",
    "\n",
    "if idades == [30, 27, 31, 45, 50, 22, 18, 26, 30, 57]:\n",
    "    print('Resposta Correta')\n",
    "else:\n",
    "    print('Tente Novamente')"
   ]
  },
  {
   "cell_type": "code",
   "execution_count": 14,
   "metadata": {},
   "outputs": [],
   "source": [
    "# Exercício 2\n",
    "\n",
    "# Agora o aluno resolveu mudar de turma, vamos remover a idade dele da lista\n",
    "#Digite seu código abaixo:\n",
    "\n",
    "\n",
    "idades.remove(57)"
   ]
  },
  {
   "cell_type": "code",
   "execution_count": 15,
   "metadata": {},
   "outputs": [
    {
     "name": "stdout",
     "output_type": "stream",
     "text": [
      "Resposta Correta\n"
     ]
    }
   ],
   "source": [
    "# Exercício 2\n",
    "\n",
    "if idades == [30, 27, 31, 45, 50, 22, 18, 26, 30]:\n",
    "    print('Resposta Correta')\n",
    "else:\n",
    "    print('Tente Novamente')"
   ]
  },
  {
   "cell_type": "code",
   "execution_count": 16,
   "metadata": {},
   "outputs": [],
   "source": [
    "# Exercício 3\n",
    "\n",
    "# Queremos saber qual a média de idades dos alunos da turma\n",
    "# Vamos fazer esse cálculo por etapas\n",
    "\n",
    "# Calcule a soma dos elementos da lista\n",
    "# Digite seu código abaixo\n",
    "\n",
    "soma = sum(idades)\n",
    "\n",
    "# Calcule a quantidade de itens na lista\n",
    "# Digite seu código abaixo\n",
    "\n",
    "qtde = len(idades)\n",
    "\n",
    "# Agora calcule a média dividindo a soma pela quantidade de itens, chame o valor final de media\n",
    "# Digite seu código abaixo\n",
    "\n",
    "media = soma/qtde\n"
   ]
  },
  {
   "cell_type": "code",
   "execution_count": 17,
   "metadata": {},
   "outputs": [
    {
     "name": "stdout",
     "output_type": "stream",
     "text": [
      "Resposta Correta\n"
     ]
    }
   ],
   "source": [
    "# Exercício 3\n",
    "\n",
    "if media ==31:\n",
    "    print('Resposta Correta')\n",
    "else:\n",
    "    print('Tente Novamente')"
   ]
  },
  {
   "cell_type": "markdown",
   "metadata": {},
   "source": [
    "# Exercícios - Dicionários"
   ]
  },
  {
   "cell_type": "code",
   "execution_count": 18,
   "metadata": {},
   "outputs": [],
   "source": [
    "# Supondo o dicionário usado na aula\n",
    "\n",
    "dict_idades = {'Pedro':30,'Carlos':27,'Maria':31,'Alice':45,'Marina':50,'Marcos':22,'Antonio':18,'José':26,'Renata':30}"
   ]
  },
  {
   "cell_type": "code",
   "execution_count": 2,
   "metadata": {},
   "outputs": [
    {
     "ename": "NameError",
     "evalue": "name 'dict_idades' is not defined",
     "output_type": "error",
     "traceback": [
      "\u001b[0;31m---------------------------------------------------------------------------\u001b[0m",
      "\u001b[0;31mNameError\u001b[0m                                 Traceback (most recent call last)",
      "Cell \u001b[0;32mIn[2], line 6\u001b[0m\n\u001b[1;32m      1\u001b[0m \u001b[38;5;66;03m# Retorne a idade de Maria e armazene na variável \"maria\"\u001b[39;00m\n\u001b[1;32m      2\u001b[0m \n\u001b[1;32m      3\u001b[0m \u001b[38;5;66;03m# Escreva seu código abaixo:\u001b[39;00m\n\u001b[0;32m----> 6\u001b[0m maria \u001b[38;5;241m=\u001b[39m \u001b[43mdict_idades\u001b[49m\u001b[38;5;241m.\u001b[39mget(\u001b[38;5;124m'\u001b[39m\u001b[38;5;124mMaria\u001b[39m\u001b[38;5;124m'\u001b[39m)\n",
      "\u001b[0;31mNameError\u001b[0m: name 'dict_idades' is not defined"
     ]
    }
   ],
   "source": [
    "# Retorne a idade de Maria e armazene na variável \"maria\"\n",
    "\n",
    "# Escreva seu código abaixo:\n",
    "\n",
    "\n",
    "maria = dict_idades.get('Maria')"
   ]
  },
  {
   "cell_type": "code",
   "execution_count": 20,
   "metadata": {},
   "outputs": [
    {
     "name": "stdout",
     "output_type": "stream",
     "text": [
      "Resposta Correta\n"
     ]
    }
   ],
   "source": [
    "# Verificando a resposta:\n",
    "\n",
    "if maria ==31:\n",
    "    print('Resposta Correta')\n",
    "else:\n",
    "    print('Tente Novamente')"
   ]
  },
  {
   "cell_type": "code",
   "execution_count": 21,
   "metadata": {},
   "outputs": [],
   "source": [
    "# Temos um novo aluno na classe, o nome dele é Henrique e ele tem 50 anos. Atualize o dicionário:\n",
    "\n",
    "dict_idades['Henrique'] = 50"
   ]
  },
  {
   "cell_type": "code",
   "execution_count": 22,
   "metadata": {},
   "outputs": [
    {
     "name": "stdout",
     "output_type": "stream",
     "text": [
      "Resposta Correta\n"
     ]
    }
   ],
   "source": [
    "# Verificando a resposta:\n",
    "\n",
    "if dict_idades['Henrique'] ==50:\n",
    "    print('Resposta Correta')\n",
    "else:\n",
    "    print('Tente Novamente')"
   ]
  },
  {
   "cell_type": "code",
   "execution_count": 23,
   "metadata": {},
   "outputs": [],
   "source": [
    "# Retorne a soma das idades de Pedro e Henrique e armazene o resultado na variável soma:\n",
    "\n",
    "soma = dict_idades.get('Pedro') + dict_idades.get('Henrique')\n",
    "\n",
    "\n"
   ]
  },
  {
   "cell_type": "code",
   "execution_count": 24,
   "metadata": {},
   "outputs": [
    {
     "name": "stdout",
     "output_type": "stream",
     "text": [
      "Resposta Correta\n"
     ]
    }
   ],
   "source": [
    "# Verificando a resposta:\n",
    "\n",
    "if soma == 80:\n",
    "    print('Resposta Correta')\n",
    "else:\n",
    "    print('Tente Novamente')"
   ]
  },
  {
   "cell_type": "code",
   "execution_count": null,
   "metadata": {},
   "outputs": [],
   "source": []
  }
 ],
 "metadata": {
  "kernelspec": {
   "display_name": "Python 3",
   "language": "python",
   "name": "python3"
  },
  "language_info": {
   "codemirror_mode": {
    "name": "ipython",
    "version": 3
   },
   "file_extension": ".py",
   "mimetype": "text/x-python",
   "name": "python",
   "nbconvert_exporter": "python",
   "pygments_lexer": "ipython3",
   "version": "3.10.13"
  }
 },
 "nbformat": 4,
 "nbformat_minor": 4
}
