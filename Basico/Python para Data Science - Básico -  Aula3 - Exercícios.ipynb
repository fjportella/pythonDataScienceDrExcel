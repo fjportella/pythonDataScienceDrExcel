{
 "cells": [
  {
   "cell_type": "markdown",
   "metadata": {},
   "source": [
    "# Aula 3 - Exercícios\n",
    "\n"
   ]
  },
  {
   "cell_type": "code",
   "execution_count": 1,
   "metadata": {},
   "outputs": [],
   "source": [
    "import numpy as np\n",
    "import pandas as pd"
   ]
  },
  {
   "cell_type": "code",
   "execution_count": 2,
   "metadata": {},
   "outputs": [],
   "source": [
    "lista = [10,5,20,10]"
   ]
  },
  {
   "cell_type": "code",
   "execution_count": 5,
   "metadata": {},
   "outputs": [
    {
     "data": {
      "text/plain": [
       "5"
      ]
     },
     "execution_count": 5,
     "metadata": {},
     "output_type": "execute_result"
    }
   ],
   "source": [
    "# Retorne o 2º Elemento da Lista - Use uma referência de posição para que funcione em qualquer lista, armazene o resultado na variável \"valor\"\n",
    "valor = lista[1]\n",
    "valor\n"
   ]
  },
  {
   "cell_type": "code",
   "execution_count": 8,
   "metadata": {},
   "outputs": [
    {
     "data": {
      "text/plain": [
       "'O Resultado final é 20'"
      ]
     },
     "execution_count": 8,
     "metadata": {},
     "output_type": "execute_result"
    }
   ],
   "source": [
    "# Multiplique a variável valor por 2, e depois some com o 4º Elemento da lista, chame de valor2:\n",
    "\n",
    "valor2 = (valor * 2) + lista[3]\n",
    "valor2\n",
    "\n",
    "# Monte uma variável chamada \"final\" , uma string composta da frase \"O Resultado final é\" e o valor2 encontrado:\n",
    "\n",
    "final = \"O Resultado final é \" + str(valor2)\n",
    "final"
   ]
  },
  {
   "cell_type": "code",
   "execution_count": 9,
   "metadata": {},
   "outputs": [
    {
     "data": {
      "text/plain": [
       "'O Resultado final é 20'"
      ]
     },
     "execution_count": 9,
     "metadata": {},
     "output_type": "execute_result"
    }
   ],
   "source": [
    "# Defina uma função que faça essa operação (Extrair 2º Elemento, multiplicar por 2 e somar com o 4º Elemento e montar a frase final)\n",
    "# o argumento deve ser a lista passada\n",
    "# Chame a função de 'resultadofinal'\n",
    "def resultadofinal(argumento):\n",
    "    valor2 = argumento[1] * 2 + argumento[3]\n",
    "    return \"O Resultado final é \" + str(valor2)\n",
    "\n",
    "\n",
    "resultadofinal(lista)\n",
    "\n"
   ]
  },
  {
   "cell_type": "code",
   "execution_count": 10,
   "metadata": {},
   "outputs": [],
   "source": [
    "lista2 = [1,2,3,4]"
   ]
  },
  {
   "cell_type": "code",
   "execution_count": 15,
   "metadata": {},
   "outputs": [
    {
     "name": "stdout",
     "output_type": "stream",
     "text": [
      "O Resultado final é 20\n",
      "O Resultado final é 8\n"
     ]
    }
   ],
   "source": [
    "# Aplique a função nas variáveis \"lista\" e \"lista2\"\n",
    "\n",
    "print(resultadofinal(lista))\n",
    "print(resultadofinal(lista2))\n"
   ]
  },
  {
   "cell_type": "code",
   "execution_count": 16,
   "metadata": {},
   "outputs": [
    {
     "data": {
      "text/plain": [
       "20"
      ]
     },
     "execution_count": 16,
     "metadata": {},
     "output_type": "execute_result"
    }
   ],
   "source": [
    "valor2"
   ]
  },
  {
   "cell_type": "code",
   "execution_count": 21,
   "metadata": {},
   "outputs": [
    {
     "data": {
      "text/plain": [
       "[20, 40, 60, 80]"
      ]
     },
     "execution_count": 21,
     "metadata": {},
     "output_type": "execute_result"
    }
   ],
   "source": [
    "# Considere novamente a lista2:\n",
    "\n",
    "\n",
    "# Agora vamos multiplicar o valor2 por cada elemento da lista2, vamos armazenar o resultado em uma outra lista chamada de lista3:\n",
    "# Dica, crie uma lista vazia  use um loop entre os valores da lista2 para ir preenchendo a lista:\n",
    "# Imprima o resultado\n",
    "\n",
    "lista3 = []\n",
    "lista3\n",
    "\n",
    "for i in lista2:\n",
    "    lista3.append(valor2*i)\n",
    "\n",
    "lista3\n",
    "    \n"
   ]
  },
  {
   "cell_type": "code",
   "execution_count": null,
   "metadata": {},
   "outputs": [],
   "source": [
    "# Vamos repetir a operação acima, porém vamos aplicar a seguinte condição:\n",
    "# Se o valor da lista2 for par, faremos a multiplicação, e se for ímpar não faremos nada:\n",
    "\n",
    "\n",
    "# Dica, o Operador % entre dois números retorna o resto da divisão entre dois números\n",
    "\n",
    "\n",
    "\n"
   ]
  }
 ],
 "metadata": {
  "kernelspec": {
   "display_name": "Python 3",
   "language": "python",
   "name": "python3"
  },
  "language_info": {
   "codemirror_mode": {
    "name": "ipython",
    "version": 3
   },
   "file_extension": ".py",
   "mimetype": "text/x-python",
   "name": "python",
   "nbconvert_exporter": "python",
   "pygments_lexer": "ipython3",
   "version": "3.10.13"
  }
 },
 "nbformat": 4,
 "nbformat_minor": 4
}
